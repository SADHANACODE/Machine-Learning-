{
  "nbformat": 4,
  "nbformat_minor": 0,
  "metadata": {
    "colab": {
      "name": "RNN_Rainfall Prediction.ipynb",
      "provenance": []
    },
    "kernelspec": {
      "name": "python3",
      "display_name": "Python 3"
    },
    "language_info": {
      "name": "python"
    }
  },
  "cells": [
    {
      "cell_type": "code",
      "metadata": {
        "colab": {
          "resources": {
            "http://localhost:8080/nbextensions/google.colab/files.js": {
              "data": "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",
              "ok": true,
              "headers": [
                [
                  "content-type",
                  "application/javascript"
                ]
              ],
              "status": 200,
              "status_text": ""
            }
          },
          "base_uri": "https://localhost:8080/",
          "height": 73
        },
        "id": "ftjNUkXY8lQV",
        "outputId": "ab4dd63f-7d9c-464e-bd7a-f90bb55d0eb5"
      },
      "source": [
        "from google.colab import files\n",
        "uploaded = files.upload()"
      ],
      "execution_count": 2,
      "outputs": [
        {
          "output_type": "display_data",
          "data": {
            "text/html": [
              "\n",
              "     <input type=\"file\" id=\"files-2643740c-6ae8-4714-a91e-672865dd6a74\" name=\"files[]\" multiple disabled\n",
              "        style=\"border:none\" />\n",
              "     <output id=\"result-2643740c-6ae8-4714-a91e-672865dd6a74\">\n",
              "      Upload widget is only available when the cell has been executed in the\n",
              "      current browser session. Please rerun this cell to enable.\n",
              "      </output>\n",
              "      <script src=\"/nbextensions/google.colab/files.js\"></script> "
            ],
            "text/plain": [
              "<IPython.core.display.HTML object>"
            ]
          },
          "metadata": {
            "tags": []
          }
        },
        {
          "output_type": "stream",
          "text": [
            "Saving rainfall.csv to rainfall.csv\n"
          ],
          "name": "stdout"
        }
      ]
    },
    {
      "cell_type": "code",
      "metadata": {
        "colab": {
          "base_uri": "https://localhost:8080/"
        },
        "id": "58HG_RZV8_Li",
        "outputId": "e5816b6e-c105-4075-8b90-e44398b82b9b"
      },
      "source": [
        "import numpy as np\n",
        "import matplotlib.pyplot as plt\n",
        "import pandas as pd\n",
        "from keras.models import Sequential\n",
        "from keras.layers import LSTM, Dense, Dropout, Bidirectional\n",
        "from google.colab import files\n",
        "#uploaded =files.upload()\n",
        "DATA_DIR='rainfall.csv'\n",
        "dataset=pd.read_csv(DATA_DIR)\n",
        "rainfall_df=dataset[['rainfall']]\n",
        "rainfall_df\n",
        " \n",
        "train_split= 0.9\n",
        "split_idx = int(len(rainfall_df) * 0.9)\n",
        "training_set = rainfall_df[:split_idx].values\n",
        "test_set = rainfall_df[split_idx:].values\n",
        "## 5-day prediction using 30 days data\n",
        "x_train = []\n",
        "y_train = []\n",
        "n_future = 30 #Next 30 days rainfall forecast\n",
        "n_past = 30 #Past 30 days\n",
        "for i in range(0, len(training_set) - n_past - n_future + 1):\n",
        " x_train.append(training_set[i : i + n_past, 0])\n",
        " y_train.append(training_set[i + n_past : i + n_past + n_future, 0])\n",
        "x_train , y_train = np.array(x_train), np.array(y_train)\n",
        "x_train = np.reshape(x_train, (x_train.shape[0] , x_train.shape[1], 1))\n",
        "EPOCHS = 50\n",
        "BATCH_SIZE = 32\n",
        " \n",
        "regressor = Sequential()\n",
        " \n",
        "regressor.add(Bidirectional(LSTM(units=30, return_sequences=True, input_shape = (x_train.shape[1], 1))))\n",
        "regressor.add(Dropout(0.2))\n",
        "regressor.add(LSTM(units= 30, return_sequences=True))\n",
        "regressor.add(Dropout(0.2))\n",
        "regressor.add(LSTM(units= 30, return_sequences=True))\n",
        "regressor.add(Dropout(0.2))\n",
        "regressor.add(LSTM(units= 30))\n",
        "regressor.add(Dropout(0.2))\n",
        "##regressor.add(Dense(units = n_future, activation=’relu’))\n",
        "regressor.compile(optimizer='adam', loss='mean_squared_error', metrics=['acc'])\n",
        "regressor.fit(x_train, y_train, epochs=EPOCHS, batch_size=BATCH_SIZE)\n",
        "x_test = test_set[: n_past, 0]\n",
        "y_test = test_set[n_past : n_past + n_future, 0]\n",
        "x_test, y_test = np.array(x_test), np.array(y_test)\n",
        "x_test = np.reshape(x_test, (1, x_test.shape[0], 1))\n",
        "predicted_temperature = regressor.predict(x_test)\n",
        "print('Predicted temperature {}'.format(predicted_temperature))\n",
        "print('Real temperature {}'.format(y_test))"
      ],
      "execution_count": 3,
      "outputs": [
        {
          "output_type": "stream",
          "text": [
            "Epoch 1/50\n",
            "105/105 [==============================] - 45s 56ms/step - loss: 364.5387 - acc: 0.0338\n",
            "Epoch 2/50\n",
            "105/105 [==============================] - 6s 57ms/step - loss: 350.9578 - acc: 0.0297\n",
            "Epoch 3/50\n",
            "105/105 [==============================] - 6s 57ms/step - loss: 355.1913 - acc: 0.0300\n",
            "Epoch 4/50\n",
            "105/105 [==============================] - 6s 57ms/step - loss: 360.3363 - acc: 0.0394\n",
            "Epoch 5/50\n",
            "105/105 [==============================] - 6s 56ms/step - loss: 359.3010 - acc: 0.0330\n",
            "Epoch 6/50\n",
            "105/105 [==============================] - 6s 56ms/step - loss: 363.0108 - acc: 0.0410\n",
            "Epoch 7/50\n",
            "105/105 [==============================] - 6s 56ms/step - loss: 351.0813 - acc: 0.0364\n",
            "Epoch 8/50\n",
            "105/105 [==============================] - 6s 56ms/step - loss: 354.5920 - acc: 0.0395\n",
            "Epoch 9/50\n",
            "105/105 [==============================] - 6s 56ms/step - loss: 346.4893 - acc: 0.0341\n",
            "Epoch 10/50\n",
            "105/105 [==============================] - 6s 56ms/step - loss: 354.9263 - acc: 0.0288\n",
            "Epoch 11/50\n",
            "105/105 [==============================] - 6s 56ms/step - loss: 353.8446 - acc: 0.0335\n",
            "Epoch 12/50\n",
            "105/105 [==============================] - 6s 56ms/step - loss: 348.9226 - acc: 0.0312\n",
            "Epoch 13/50\n",
            "105/105 [==============================] - 6s 55ms/step - loss: 361.9281 - acc: 0.0358\n",
            "Epoch 14/50\n",
            "105/105 [==============================] - 6s 57ms/step - loss: 357.2496 - acc: 0.0344\n",
            "Epoch 15/50\n",
            "105/105 [==============================] - 6s 55ms/step - loss: 362.1873 - acc: 0.0332\n",
            "Epoch 16/50\n",
            "105/105 [==============================] - 6s 57ms/step - loss: 354.0577 - acc: 0.0397\n",
            "Epoch 17/50\n",
            "105/105 [==============================] - 6s 56ms/step - loss: 356.0948 - acc: 0.0289\n",
            "Epoch 18/50\n",
            "105/105 [==============================] - 6s 56ms/step - loss: 367.8253 - acc: 0.0312\n",
            "Epoch 19/50\n",
            "105/105 [==============================] - 6s 55ms/step - loss: 365.4590 - acc: 0.0329\n",
            "Epoch 20/50\n",
            "105/105 [==============================] - 6s 55ms/step - loss: 349.9520 - acc: 0.0386\n",
            "Epoch 21/50\n",
            "105/105 [==============================] - 6s 56ms/step - loss: 361.4173 - acc: 0.0360\n",
            "Epoch 22/50\n",
            "105/105 [==============================] - 6s 56ms/step - loss: 353.7984 - acc: 0.0324\n",
            "Epoch 23/50\n",
            "105/105 [==============================] - 6s 56ms/step - loss: 353.3887 - acc: 0.0325\n",
            "Epoch 24/50\n",
            "105/105 [==============================] - 6s 55ms/step - loss: 357.6724 - acc: 0.0342\n",
            "Epoch 25/50\n",
            "105/105 [==============================] - 6s 55ms/step - loss: 362.5379 - acc: 0.0325\n",
            "Epoch 26/50\n",
            "105/105 [==============================] - 6s 56ms/step - loss: 363.7519 - acc: 0.0324\n",
            "Epoch 27/50\n",
            "105/105 [==============================] - 6s 55ms/step - loss: 351.6045 - acc: 0.0323\n",
            "Epoch 28/50\n",
            "105/105 [==============================] - 6s 55ms/step - loss: 365.1190 - acc: 0.0309\n",
            "Epoch 29/50\n",
            "105/105 [==============================] - 6s 55ms/step - loss: 353.4380 - acc: 0.0253\n",
            "Epoch 30/50\n",
            "105/105 [==============================] - 6s 55ms/step - loss: 364.3866 - acc: 0.0332\n",
            "Epoch 31/50\n",
            "105/105 [==============================] - 6s 56ms/step - loss: 359.0937 - acc: 0.0390\n",
            "Epoch 32/50\n",
            "105/105 [==============================] - 6s 55ms/step - loss: 353.8612 - acc: 0.0353\n",
            "Epoch 33/50\n",
            "105/105 [==============================] - 6s 56ms/step - loss: 351.2392 - acc: 0.0319\n",
            "Epoch 34/50\n",
            "105/105 [==============================] - 6s 56ms/step - loss: 355.9410 - acc: 0.0381\n",
            "Epoch 35/50\n",
            "105/105 [==============================] - 6s 56ms/step - loss: 361.9162 - acc: 0.0320\n",
            "Epoch 36/50\n",
            "105/105 [==============================] - 6s 55ms/step - loss: 364.7213 - acc: 0.0327\n",
            "Epoch 37/50\n",
            "105/105 [==============================] - 6s 55ms/step - loss: 361.4973 - acc: 0.0380\n",
            "Epoch 38/50\n",
            "105/105 [==============================] - 6s 55ms/step - loss: 352.3476 - acc: 0.0319\n",
            "Epoch 39/50\n",
            "105/105 [==============================] - 6s 55ms/step - loss: 355.5199 - acc: 0.0393\n",
            "Epoch 40/50\n",
            "105/105 [==============================] - 6s 56ms/step - loss: 362.1890 - acc: 0.0341\n",
            "Epoch 41/50\n",
            "105/105 [==============================] - 6s 56ms/step - loss: 358.3589 - acc: 0.0352\n",
            "Epoch 42/50\n",
            "105/105 [==============================] - 6s 57ms/step - loss: 364.2039 - acc: 0.0351\n",
            "Epoch 43/50\n",
            "105/105 [==============================] - 6s 57ms/step - loss: 350.3435 - acc: 0.0306\n",
            "Epoch 44/50\n",
            "105/105 [==============================] - 6s 56ms/step - loss: 358.7128 - acc: 0.0309\n",
            "Epoch 45/50\n",
            "105/105 [==============================] - 6s 56ms/step - loss: 362.0447 - acc: 0.0356\n",
            "Epoch 46/50\n",
            "105/105 [==============================] - 6s 56ms/step - loss: 356.6634 - acc: 0.0371\n",
            "Epoch 47/50\n",
            "105/105 [==============================] - 6s 56ms/step - loss: 351.4782 - acc: 0.0342\n",
            "Epoch 48/50\n",
            "105/105 [==============================] - 6s 56ms/step - loss: 346.9868 - acc: 0.0387\n",
            "Epoch 49/50\n",
            "105/105 [==============================] - 6s 56ms/step - loss: 349.6463 - acc: 0.0278\n",
            "Epoch 50/50\n",
            "105/105 [==============================] - 6s 57ms/step - loss: 362.2015 - acc: 0.0334\n",
            "Predicted temperature [[0.99999213 0.9999883  0.99998796 0.9999856  0.99998266 0.9999839\n",
            "  0.9999883  0.9999892  0.99998593 0.9999761  0.9999888  0.9999809\n",
            "  0.99999    0.9999895  0.9999862  0.99998593 0.99999005 0.9999877\n",
            "  0.99998057 0.9999879  0.9999881  0.99998295 0.99998474 0.99998724\n",
            "  0.99999017 0.99999154 0.9999715  0.9999782  0.9999863  0.9999766 ]]\n",
            "Real temperature [ 9.8  6.6  0.2  0.   0.   0.   0.   0.   0.2  0.   2.4  0.6  0.  30.6\n",
            " 45.2  2.5  0.   0.  18.  37.   2.8  0.   0.  11.   3.4  0.8  0.   0.8\n",
            "  0.8  0.8]\n"
          ],
          "name": "stdout"
        }
      ]
    },
    {
      "cell_type": "code",
      "metadata": {
        "id": "YP9NgsUjBd4N"
      },
      "source": [
        ""
      ],
      "execution_count": null,
      "outputs": []
    }
  ]
}
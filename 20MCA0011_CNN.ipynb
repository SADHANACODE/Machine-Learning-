{
  "nbformat": 4,
  "nbformat_minor": 0,
  "metadata": {
    "colab": {
      "name": "20MCA0011_CNN.ipynb",
      "provenance": []
    },
    "kernelspec": {
      "name": "python3",
      "display_name": "Python 3"
    },
    "language_info": {
      "name": "python"
    }
  },
  "cells": [
    {
      "cell_type": "code",
      "metadata": {
        "colab": {
          "base_uri": "https://localhost:8080/"
        },
        "id": "qfcTF4I1MlqK",
        "outputId": "1af76086-43a3-487d-cab2-ff19ca79e4b1"
      },
      "source": [
        "import numpy as np\n",
        "import pandas as pd\n",
        "from keras.optimizers import SGD\n",
        "from keras.datasets import cifar10\n",
        "from keras.models import Sequential\n",
        "from keras.utils import np_utils as utils\n",
        "from keras.layers import Dropout, Dense, Flatten\n",
        "from keras.layers.convolutional import Conv2D, MaxPooling2D\n",
        "#Load Cifar01 data:\n",
        "(X, y), (X_test, y_test) = cifar10.load_data()\n",
        "#Display test dataset\n",
        "X_test\n",
        "#Normalize the data:\n",
        "X, X_test = X.astype('float32')/255.0, X_test.astype('float32')/255.0\n",
        "#Convert to categorical:\n",
        "y, y_test = utils.to_categorical(y, 10),utils.to_categorical(y_test, 10)\n",
        "#Initialize the model:\n",
        "model = Sequential()\n",
        "\"\"\"Add Convolutional Layer with below parameters:\n",
        "    Features map = 32\n",
        "    Kernel size = 3x3\n",
        "    Input shape = 32x32\n",
        "    Channels = 3\n",
        "    Padding = 3 → It means the same dimension output as input.\"\"\"\n",
        "model.add(Conv2D(32, (3, 3), input_shape=(32, 32, 3), padding='same', activation='relu'))\n",
        "#Add the dropout rate:\n",
        "model.add(Dropout(0.2))\n",
        "#Add another CNN layer with padding = valid.\n",
        "#padding = valid → It means output dimension can take any form.\n",
        "model.add(Conv2D(32, (3, 3), activation='relu', padding='valid'))\n",
        "#Add a Max Pooling layer.\n",
        "model.add(MaxPooling2D(pool_size=(2, 2)))\n",
        "\"\"\"Flatten the data:\n",
        "In CNNs, it is important to flatten the data before the input it into the output or dense layer.\"\"\"\n",
        "model.add(Flatten())\n",
        "#Add dense layer:\n",
        "model.add(Dense(512, activation='relu'))\n",
        "\"\"\"Here, the number of hidden units is 521.\n",
        "Add dropout:\"\"\"\n",
        "model.add(Dropout(0.3))\n",
        "#Add the output dense layer:\n",
        "model.add(Dense(10, activation='softmax'))\n",
        "#Compile the model:\n",
        "model.compile(loss='categorical_crossentropy',optimizer=SGD(momentum=0.5, decay=0.0004), metrics=['accuracy'])\n",
        "#Fit the algorithm with 25 epochs:\n",
        "model.fit(X, y, validation_data=(X_test, y_test), epochs=25,batch_size=512)"
      ],
      "execution_count": 1,
      "outputs": [
        {
          "output_type": "stream",
          "text": [
            "Downloading data from https://www.cs.toronto.edu/~kriz/cifar-10-python.tar.gz\n",
            "170500096/170498071 [==============================] - 2s 0us/step\n",
            "170508288/170498071 [==============================] - 2s 0us/step\n",
            "Epoch 1/25\n",
            "98/98 [==============================] - 171s 2s/step - loss: 2.2478 - accuracy: 0.1614 - val_loss: 2.0647 - val_accuracy: 0.2718\n",
            "Epoch 2/25\n",
            "98/98 [==============================] - 155s 2s/step - loss: 1.9866 - accuracy: 0.2909 - val_loss: 1.8832 - val_accuracy: 0.3554\n",
            "Epoch 3/25\n",
            "98/98 [==============================] - 155s 2s/step - loss: 1.8758 - accuracy: 0.3379 - val_loss: 1.8327 - val_accuracy: 0.3570\n",
            "Epoch 4/25\n",
            "98/98 [==============================] - 155s 2s/step - loss: 1.8091 - accuracy: 0.3629 - val_loss: 1.7466 - val_accuracy: 0.3925\n",
            "Epoch 5/25\n",
            "98/98 [==============================] - 155s 2s/step - loss: 1.7455 - accuracy: 0.3855 - val_loss: 1.6947 - val_accuracy: 0.4083\n",
            "Epoch 6/25\n",
            "98/98 [==============================] - 155s 2s/step - loss: 1.7020 - accuracy: 0.4032 - val_loss: 1.6572 - val_accuracy: 0.4175\n",
            "Epoch 7/25\n",
            "98/98 [==============================] - 155s 2s/step - loss: 1.6580 - accuracy: 0.4158 - val_loss: 1.6514 - val_accuracy: 0.4236\n",
            "Epoch 8/25\n",
            "98/98 [==============================] - 154s 2s/step - loss: 1.6174 - accuracy: 0.4317 - val_loss: 1.6056 - val_accuracy: 0.4340\n",
            "Epoch 9/25\n",
            "98/98 [==============================] - 155s 2s/step - loss: 1.6084 - accuracy: 0.4276 - val_loss: 1.5871 - val_accuracy: 0.4421\n",
            "Epoch 10/25\n",
            "98/98 [==============================] - 154s 2s/step - loss: 1.5777 - accuracy: 0.4455 - val_loss: 1.5714 - val_accuracy: 0.4460\n",
            "Epoch 11/25\n",
            "98/98 [==============================] - 154s 2s/step - loss: 1.5626 - accuracy: 0.4514 - val_loss: 1.5340 - val_accuracy: 0.4622\n",
            "Epoch 12/25\n",
            "98/98 [==============================] - 155s 2s/step - loss: 1.5432 - accuracy: 0.4575 - val_loss: 1.5163 - val_accuracy: 0.4709\n",
            "Epoch 13/25\n",
            "98/98 [==============================] - 154s 2s/step - loss: 1.5321 - accuracy: 0.4600 - val_loss: 1.5080 - val_accuracy: 0.4674\n",
            "Epoch 14/25\n",
            "98/98 [==============================] - 154s 2s/step - loss: 1.5086 - accuracy: 0.4684 - val_loss: 1.4845 - val_accuracy: 0.4838\n",
            "Epoch 15/25\n",
            "98/98 [==============================] - 155s 2s/step - loss: 1.5026 - accuracy: 0.4718 - val_loss: 1.4855 - val_accuracy: 0.4763\n",
            "Epoch 16/25\n",
            "98/98 [==============================] - 155s 2s/step - loss: 1.4890 - accuracy: 0.4783 - val_loss: 1.4563 - val_accuracy: 0.4853\n",
            "Epoch 17/25\n",
            "98/98 [==============================] - 155s 2s/step - loss: 1.4786 - accuracy: 0.4792 - val_loss: 1.4508 - val_accuracy: 0.4894\n",
            "Epoch 18/25\n",
            "98/98 [==============================] - 156s 2s/step - loss: 1.4701 - accuracy: 0.4832 - val_loss: 1.4327 - val_accuracy: 0.4940\n",
            "Epoch 19/25\n",
            "98/98 [==============================] - 155s 2s/step - loss: 1.4542 - accuracy: 0.4888 - val_loss: 1.4230 - val_accuracy: 0.5000\n",
            "Epoch 20/25\n",
            "98/98 [==============================] - 155s 2s/step - loss: 1.4459 - accuracy: 0.4917 - val_loss: 1.4249 - val_accuracy: 0.4989\n",
            "Epoch 21/25\n",
            "98/98 [==============================] - 156s 2s/step - loss: 1.4249 - accuracy: 0.5001 - val_loss: 1.4262 - val_accuracy: 0.5040\n",
            "Epoch 22/25\n",
            "98/98 [==============================] - 155s 2s/step - loss: 1.4186 - accuracy: 0.5008 - val_loss: 1.4017 - val_accuracy: 0.5112\n",
            "Epoch 23/25\n",
            "98/98 [==============================] - 155s 2s/step - loss: 1.4200 - accuracy: 0.5005 - val_loss: 1.4065 - val_accuracy: 0.5086\n",
            "Epoch 24/25\n",
            "98/98 [==============================] - 155s 2s/step - loss: 1.3990 - accuracy: 0.5100 - val_loss: 1.4001 - val_accuracy: 0.5109\n",
            "Epoch 25/25\n",
            "98/98 [==============================] - 155s 2s/step - loss: 1.3982 - accuracy: 0.5063 - val_loss: 1.3912 - val_accuracy: 0.5148\n"
          ],
          "name": "stdout"
        },
        {
          "output_type": "execute_result",
          "data": {
            "text/plain": [
              "<keras.callbacks.History at 0x7f7cf71d0690>"
            ]
          },
          "metadata": {
            "tags": []
          },
          "execution_count": 1
        }
      ]
    },
    {
      "cell_type": "code",
      "metadata": {
        "id": "5MjLJducMoio"
      },
      "source": [
        ""
      ],
      "execution_count": null,
      "outputs": []
    }
  ]
}